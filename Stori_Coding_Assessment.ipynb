{
  "nbformat": 4,
  "nbformat_minor": 0,
  "metadata": {
    "colab": {
      "provenance": []
    },
    "kernelspec": {
      "name": "python3",
      "display_name": "Python 3"
    },
    "language_info": {
      "name": "python"
    }
  },
  "cells": [
    {
      "cell_type": "code",
      "execution_count": null,
      "metadata": {
        "id": "ceY6xwLfRkCn"
      },
      "outputs": [],
      "source": [
        "#please note the AWS architecture was not created for this assessment\n",
        "#the routes have to be updated when running this script\n",
        "\n",
        "# importing libraries for the script\n",
        "import json\n",
        "import boto3\n",
        "from PIL import Image\n",
        "\n",
        "#defining lambda function triggered by S3 object creation events\n",
        "def lambda_handler(event, context):\n",
        "# Getting the S3 object information from the event\n",
        "  try:\n",
        "    s3_record = event['Records'][0]['s3']\n",
        "    bucket_name = s3_record['bucket']['name']\n",
        "    object_key = s3_record['object']['key']\n",
        "\n",
        "# Setting up S3 client\n",
        "    s3_client = boto3.client('s3')\n",
        "\n",
        "# Downloading the image from S3\n",
        "    s3_client.download_file(bucket_name, object_key, \"/tmp/input_image.jpg\")\n",
        "\n",
        "# Generating the thumbnail\n",
        "    im = Image.open(\"/tmp/input_image.jpg\")\n",
        "    thumbnail_size = (128, 128)  # Adjust thumbnail size as needed\n",
        "    im.thumbnail(thumbnail_size, Image.ANTIALIAS)\n",
        "\n",
        "# Saving the thumbnail to a temporary file\n",
        "    im.save(\"/tmp/thumbnail.jpg\")\n",
        "\n",
        "# Uploading the thumbnail to a destination S3 bucket\n",
        "    thumbnail_bucket_name = \"thumbnail-bucket\"\n",
        "    thumbnail_object_key = f\"thumbnails/{filename}\"\n",
        "    s3_client.upload_file(\"/tmp/thumbnail.jpg\", thumbnail_bucket_name, thumbnail_object_key)\n",
        "\n",
        "    print(f\"Thumbnail generated and uploaded: s3://{thumbnail_bucket_name}/{thumbnail_object_key}\")\n",
        "    return {\n",
        "      'statusCode': 200,\n",
        "      'body': json.dumps('Thumbnail generation successful!')\n",
        "    }\n",
        "\n",
        "  except Exception as e:\n",
        "    print(f\"Error generating thumbnail: {e}\")\n",
        "    return {\n",
        "      'statusCode': 500,\n",
        "      'body': json.dumps(f\"Error processing image: {e}\")\n",
        "    }\n",
        "# Cleaning up temporary files\n",
        "  finally:\n",
        "    try:\n",
        "      os.remove(\"/tmp/input_image.jpg\")\n",
        "      os.remove(\"/tmp/thumbnail.jpg\")\n",
        "    except FileNotFoundError:\n",
        "      pass\n",
        "\n",
        "## Example usage within Terraform local-exec\n",
        "#s3_client = boto3.client('s3')  # Assume appropriate credentials are configured\n",
        "# ... Other Terraform configuration\n",
        "#resource \"null_resource\" \"generate_thumbnail\" {\n",
        " #provisioner \"local-exec\" {\n",
        "    #command = <<EOF\n",
        "      #python generate_thumbnail.py \\\n",
        "        #--input-bucket-name my-input-bucket \\\n",
        "        #--input-object-key path/to/image.jpg \\\n",
        "        #--thumbnail-bucket-name my-thumbnail-bucket \\\n",
        "        #--thumbnail-object-key thumbnails/resized_image.jpg\n",
        "    #EOF\n",
        "  #}\n",
        "#}"
      ]
    }
  ]
}